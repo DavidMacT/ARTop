{
 "cells": [
  {
   "cell_type": "markdown",
   "id": "b18c31e0-b3f2-41f4-be8d-9faabefd50bd",
   "metadata": {
    "tags": []
   },
   "source": [
    "## Plotting maps in ARTop\n",
    "\n",
    "Maps in ARTop are based on the SunPy maps class (see https://sunpy.org/ for many more details) and make use of standard Matplotlib commands. Here, we present some examples of how to create some basic, but useful, maps. Some test data are provided with ARTop, and these data are used in the following examples."
   ]
  },
  {
   "cell_type": "code",
   "execution_count": null,
   "id": "af91f354-f3d2-4532-b99c-ad41c5bb09e6",
   "metadata": {
    "tags": []
   },
   "outputs": [],
   "source": [
    "# Example 1: Plot a basic map\n",
    "\n",
    "import os\n",
    "import sys\n",
    "cwd = os.getcwd()\n",
    "sys.path.insert(1, os.path.join(cwd,'source','python'))    # If your version of analysis.py is in another location, change this path.\n",
    "from analysis import *\n",
    "\n",
    "# Get the data.\n",
    "outputDir = os.path.join(cwd,'output')                     # Set the output directory (containing the Data folder and *.txt).\n",
    "fileNum = 10                                               # Number of the output file in the Data folder. \n",
    "varKey = 'hel'                                             # The variable to be mapped.\n",
    "map1 = readMap(outputDir,fileNum,varKey)                   # Create a SunPy map of the chosen variable.\n",
    "\n",
    "# Plot the data.\n",
    "norm = map1.plot_settings['norm']\n",
    "norm.vmin = -1e9                                                                 # Minimum value.     \n",
    "norm.vmax = 1e9                                                                  # Maximum value.\n",
    "# If you don't wish to set minimum and maximum limits, just remove the above\n",
    "# two lines and the file min. and max. will be selected.\n",
    "\n",
    "map1.plot(norm=norm,cmap='Greys_r',title='Magnetic field line helicity rate')    # Plot the map with a chosen colour scheme and a title.\n",
    "plt.grid(alpha=0)                                                                # Turn off the coordinate grid.\n",
    "cbar = plt.colorbar(label=f\"Magnetic field line helicity rate  [{map1.unit}]\")   # Add a colourbar showing the variable units.\n",
    "plt.rcParams['figure.figsize'] = [15, 4]\n",
    "plt.show()                                                                       # Display the plot.\n",
    "\n",
    "# Note: if you wish to display the map with a different set of units, you can rescale map1 and enter the units manually in the colourbar label.\n"
   ]
  },
  {
   "cell_type": "code",
   "execution_count": null,
   "id": "e4ff7855-33aa-4189-a935-b33318ab572c",
   "metadata": {},
   "outputs": [],
   "source": [
    "# Example 2: Overplot contours on a map\n",
    "\n",
    "import os\n",
    "import sys\n",
    "cwd = os.getcwd()\n",
    "sys.path.insert(1, os.path.join(cwd,'source','python'))    # If your version of analysis.py is in another location, change this path.\n",
    "from analysis import *\n",
    "\n",
    "# Get the data.\n",
    "outputDir = os.path.join(cwd,'output')                 # Set the output directory (containing the Data folder and *.txt).\n",
    "fileNum = 10                                           # Number of the output file in the Data folder. \n",
    "mapVar = 'hel'                                         # The variable to be mapped.\n",
    "contourVar = 'bz'                                      # The variable to be contoured.\n",
    "map2 = readMap(outputDir,fileNum,mapVar)               # Create a map of the chosen variable.\n",
    "mapCont = readMap(outputDir,fileNum,contourVar)        # Create a map of the variable to be contoured.\n",
    "levels = [800] * mapCont.unit                          # Define the levels for the contour plot (choose only positive levels here).\n",
    "levels = np.concatenate((-1 * levels[::-1], levels))   # Create negative contours to match the positive ones above.\n",
    "\n",
    "# Plot the data.\n",
    "fig = plt.figure()                                                                  # Set up the plot for a map overlayed by contours.\n",
    "ax = fig.add_subplot(projection=map2)\n",
    "norm = map2.plot_settings['norm']\n",
    "norm.vmin = -1e9                                                                    # Minimum value.     \n",
    "norm.vmax = 1e9                                                                     # Maximum value.\n",
    "# If you don't wish to set minimum and maximum limits, just remove the above\n",
    "# two lines and the file min. and max. will be selected.\n",
    "\n",
    "map2.plot(norm=norm,cmap='Greys_r')                                                 # Plot the map.\n",
    "plt.grid(alpha=0)                                                                   # Turn off the coordinate grid.\n",
    "cbar = plt.colorbar(label=f\"Magnetic field line helicity rate  [{map2.unit}]\")      # Add a colourbar for the mapped variable.                                  \n",
    "\n",
    "cset = mapCont.draw_contours(levels,axes=ax,cmap='coolwarm_r',alpha=1)              # Create the contours to overlay on the map.\n",
    "plt.colorbar(cset,                                                                  # Overplot the contours.\n",
    "             label=f\"Magnetic Field Strength [{mapCont.unit}]\",\n",
    "             ticks=list(levels.value) + [0],\n",
    "             shrink=0.8,\n",
    "             pad=0.17)\n",
    "\n",
    "\n",
    "plt.rcParams['figure.figsize'] = [15, 4]\n",
    "plt.show()                                                                          # Display the plot."
   ]
  }
 ],
 "metadata": {
  "kernelspec": {
   "display_name": "Python 3 (ipykernel)",
   "language": "python",
   "name": "python3"
  },
  "language_info": {
   "codemirror_mode": {
    "name": "ipython",
    "version": 3
   },
   "file_extension": ".py",
   "mimetype": "text/x-python",
   "name": "python",
   "nbconvert_exporter": "python",
   "pygments_lexer": "ipython3",
   "version": "3.9.15"
  }
 },
 "nbformat": 4,
 "nbformat_minor": 5
}
